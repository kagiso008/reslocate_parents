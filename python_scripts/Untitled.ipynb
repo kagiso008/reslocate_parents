{
 "cells": [
  {
   "cell_type": "code",
   "execution_count": 16,
   "id": "7485ac55",
   "metadata": {},
   "outputs": [
    {
     "name": "stdout",
     "output_type": "stream",
     "text": [
      "Bursary data has been saved to zabursaries_bursaries.csv\n"
     ]
    }
   ],
   "source": [
    "import requests\n",
    "from bs4 import BeautifulSoup\n",
    "import csv\n",
    "\n",
    "# URL of the page to scrape\n",
    "url = 'https://www.zabursaries.co.za/general-bursaries-south-africa/'\n",
    "\n",
    "# Send HTTP request to the website\n",
    "response = requests.get(url)\n",
    "soup = BeautifulSoup(response.content, 'html.parser')\n",
    "\n",
    "# Find the bursary sections\n",
    "bursary_section = soup.find_all('h3')  # Assuming the bursaries are listed under <h3> tags\n",
    "\n",
    "# Prepare CSV file for writing\n",
    "with open('zabursaries_bursaries.csv', 'w', newline='', encoding='utf-8') as file:\n",
    "    writer = csv.writer(file)\n",
    "    writer.writerow(['Bursary Name', 'Bursary URL'])  # CSV header\n",
    "\n",
    "    # Extract bursary name and URL, then write to CSV\n",
    "    for title in bursary_section:\n",
    "        bursary_name = title.get_text(strip=True)\n",
    "        bursary_url = title.find_parent('a')['href'] if title.find_parent('a') else ''\n",
    "        writer.writerow([bursary_name, bursary_url])\n",
    "\n",
    "print(\"Bursary data has been saved to zabursaries_bursaries.csv\")"
   ]
  },
  {
   "cell_type": "code",
   "execution_count": 12,
   "id": "5e60ac79",
   "metadata": {},
   "outputs": [
    {
     "name": "stdout",
     "output_type": "stream",
     "text": [
      "Collecting webdriver_manager\n",
      "  Downloading webdriver_manager-4.0.2-py2.py3-none-any.whl (27 kB)\n",
      "Collecting python-dotenv\n",
      "  Downloading python_dotenv-1.0.1-py3-none-any.whl (19 kB)\n",
      "Requirement already satisfied: requests in /Users/kagiso/opt/anaconda3/lib/python3.9/site-packages (from webdriver_manager) (2.28.1)\n",
      "Requirement already satisfied: packaging in /Users/kagiso/opt/anaconda3/lib/python3.9/site-packages (from webdriver_manager) (21.3)\n",
      "Requirement already satisfied: pyparsing!=3.0.5,>=2.0.2 in /Users/kagiso/opt/anaconda3/lib/python3.9/site-packages (from packaging->webdriver_manager) (3.0.9)\n",
      "Requirement already satisfied: charset-normalizer<3,>=2 in /Users/kagiso/opt/anaconda3/lib/python3.9/site-packages (from requests->webdriver_manager) (2.0.4)\n",
      "Requirement already satisfied: idna<4,>=2.5 in /Users/kagiso/opt/anaconda3/lib/python3.9/site-packages (from requests->webdriver_manager) (3.3)\n",
      "Requirement already satisfied: certifi>=2017.4.17 in /Users/kagiso/opt/anaconda3/lib/python3.9/site-packages (from requests->webdriver_manager) (2022.9.24)\n",
      "Requirement already satisfied: urllib3<1.27,>=1.21.1 in /Users/kagiso/opt/anaconda3/lib/python3.9/site-packages (from requests->webdriver_manager) (1.26.11)\n",
      "Installing collected packages: python-dotenv, webdriver_manager\n",
      "Successfully installed python-dotenv-1.0.1 webdriver_manager-4.0.2\n",
      "Note: you may need to restart the kernel to use updated packages.\n"
     ]
    }
   ],
   "source": [
    "pip install webdriver_manager\n"
   ]
  },
  {
   "cell_type": "code",
   "execution_count": null,
   "id": "781902f7",
   "metadata": {},
   "outputs": [],
   "source": []
  }
 ],
 "metadata": {
  "kernelspec": {
   "display_name": "Python 3 (ipykernel)",
   "language": "python",
   "name": "python3"
  },
  "language_info": {
   "codemirror_mode": {
    "name": "ipython",
    "version": 3
   },
   "file_extension": ".py",
   "mimetype": "text/x-python",
   "name": "python",
   "nbconvert_exporter": "python",
   "pygments_lexer": "ipython3",
   "version": "3.9.13"
  }
 },
 "nbformat": 4,
 "nbformat_minor": 5
}
